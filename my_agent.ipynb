{
 "cells": [
  {
   "cell_type": "markdown",
   "id": "f11466b9-7dee-4d4c-bedd-a4659fc6c17f",
   "metadata": {},
   "source": [
    "# 📓 Notebook Overview: Daily Briefing Summarizer Agent\n",
    "This notebook builds an AI agent using LangChain that generates a daily briefing by combining information from Google Calendar and Slack.\n",
    "\n",
    "# 🗂️ Notebook Structure\n",
    "## 📦 1. Imports and Setup\n",
    "- Loads necessary libraries (LangChain, LLMs, calendar/slack functions).\n",
    "- Make sure your .env, credentials.json files are properly configured.\n",
    "\n",
    "## 📅 2. Get Google Calendar Events\n",
    "- Fetches all events for the current day using the Google Calendar API.\n",
    "- Data is shown in plaintext format for inspection.\n",
    "\n",
    "## 💬 3. Get Slack Messages\n",
    "- Retrieves the most recent Slack messages from a specific channel (default: last 60 minutes).\n",
    "- Slack bot must have permission and be invited to the channel.\n",
    "\n",
    "## 🧠 4. Summarize Both Sources with LLM\n",
    "- Combines calendar and Slack inputs into a single structured summary.\n",
    "- Uses a GPT-based LLM via LangChain and a custom prompt template.\n",
    "- The output includes a markdown-style summary with headings."
   ]
  },
  {
   "cell_type": "code",
   "execution_count": null,
   "id": "6bf51610-e771-4cc4-9be3-90dff9718208",
   "metadata": {},
   "outputs": [],
   "source": [
    "from __future__ import print_function\n",
    "import datetime\n",
    "import os.path\n",
    "from google.auth.transport.requests import Request\n",
    "from google.oauth2.credentials import Credentials\n",
    "from google_auth_oauthlib.flow import InstalledAppFlow\n",
    "from googleapiclient.discovery import build\n",
    "\n",
    "from slack_sdk import WebClient\n",
    "from slack_sdk.errors import SlackApiError\n",
    "import os\n",
    "from datetime import timedelta\n",
    "\n",
    "import getpass\n",
    "\n",
    "from langchain.tools import BaseTool\n"
   ]
  },
  {
   "cell_type": "markdown",
   "id": "230f59e3-e406-428c-b2e9-d814a86a68b1",
   "metadata": {},
   "source": [
    "# Google Calendar"
   ]
  },
  {
   "cell_type": "code",
   "execution_count": 19,
   "id": "478e9a34-becd-4e59-b5b6-0b202f80bcfe",
   "metadata": {},
   "outputs": [],
   "source": [
    "# If modifying these scopes, delete the token.json file\n",
    "SCOPES = ['https://www.googleapis.com/auth/calendar.readonly']\n",
    "\n",
    "def get_calendar_events():\n",
    "    creds = None\n",
    "    # token.json stores the user's access/refresh tokens after first login\n",
    "    if os.path.exists('token.json'):\n",
    "        creds = Credentials.from_authorized_user_file('token.json', SCOPES)\n",
    "    # If no (valid) creds, let user log in\n",
    "    if not creds or not creds.valid:\n",
    "        if creds and creds.expired and creds.refresh_token:\n",
    "            creds.refresh(Request())\n",
    "        else:\n",
    "            flow = InstalledAppFlow.from_client_secrets_file('credentials.json', SCOPES)\n",
    "            creds = flow.run_local_server(port=0)\n",
    "        with open('token.json', 'w') as token:\n",
    "            token.write(creds.to_json())\n",
    "\n",
    "    service = build('calendar', 'v3', credentials=creds)\n",
    "\n",
    "    # Call API to get upcoming events\n",
    "    now = datetime.datetime.utcnow().isoformat() + 'Z'  # 'Z' = UTC time\n",
    "    end = (datetime.datetime.utcnow() + datetime.timedelta(days=1)).isoformat() + 'Z'\n",
    "\n",
    "    events_result = service.events().list(\n",
    "        calendarId='primary', timeMin=now, timeMax=end,\n",
    "        maxResults=10, singleEvents=True,\n",
    "        orderBy='startTime').execute()\n",
    "    events = events_result.get('items', [])\n",
    "\n",
    "    if not events:\n",
    "        return \"No upcoming events found.\"\n",
    "    \n",
    "    output = []\n",
    "    for event in events:\n",
    "        title = event.get('summary', 'No Title')\n",
    "        if title == 'Home':\n",
    "            continue\n",
    "        start = event['start'].get('dateTime', event['start'].get('date'))\n",
    "        end = event['end'].get('dateTime', event['end'].get('date'))\n",
    "        output.append(f\"{start} - {end} — {title}\")\n",
    "\n",
    "    return \" \".join(output)\n"
   ]
  },
  {
   "cell_type": "code",
   "execution_count": 50,
   "id": "8461cae7-d710-4c37-b4d1-2b66c552244d",
   "metadata": {},
   "outputs": [],
   "source": [
    "class CalendarTool(BaseTool):\n",
    "    name: str = \"calendar_tool\"\n",
    "    description: str = \"Get today's calendar events from Google Calendar.\"\n",
    "\n",
    "    def _run(self, query: str):\n",
    "        return get_calendar_events()\n",
    "\n",
    "    def _arun(self, query: str):\n",
    "        raise NotImplementedError(\"Async not supported\")\n"
   ]
  },
  {
   "cell_type": "markdown",
   "id": "36c69ee3-21d0-4440-a216-0a24072486ff",
   "metadata": {},
   "source": [
    "# Slack"
   ]
  },
  {
   "cell_type": "code",
   "execution_count": 80,
   "id": "8d9f6f0d-0499-4716-bbdc-2e5b2e081236",
   "metadata": {},
   "outputs": [],
   "source": [
    "# Load your bot token\n",
    "SLACK_BOT_TOKEN = os.getenv(\"SLACK_BOT_TOKEN\")\n",
    "client = WebClient(token=SLACK_BOT_TOKEN)\n",
    "\n",
    "def get_recent_messages(channel_id: str, minutes_back: int = 600):\n",
    "    try:\n",
    "        # Timestamp for messages from X minutes ago until now\n",
    "        now = datetime.datetime.utcnow()\n",
    "        oldest = (now - timedelta(minutes=minutes_back)).timestamp()\n",
    "\n",
    "        response = client.conversations_history(\n",
    "            channel=channel_id,\n",
    "            oldest=str(oldest)\n",
    "        )\n",
    "\n",
    "        messages = response[\"messages\"]\n",
    "        print(messages)\n",
    "        return [\n",
    "            f\"[{datetime.datetime.utcfromtimestamp(float(m['ts']))}] {m.get('user', 'bot')} - {m.get('text', '')}\"\n",
    "            for m in messages\n",
    "        ]\n",
    "    except SlackApiError as e:\n",
    "        return f\"Error: {e.response['error']}\"\n"
   ]
  },
  {
   "cell_type": "code",
   "execution_count": 81,
   "id": "e8704220-bffb-40fa-976e-21d807fa7764",
   "metadata": {},
   "outputs": [],
   "source": [
    "class SlackTool(BaseTool):\n",
    "    name: str = \"slack_tool\"\n",
    "    description: str = \"Fetch recent Slack messages\"\n",
    "\n",
    "    def _run(self, query: str):\n",
    "        return \"\\n\".join(get_recent_messages(channel_id=\"C0912N8JV8A\", minutes_back=600))\n",
    "\n",
    "    def _arun(self, query: str):\n",
    "        raise NotImplementedError(\"Async not supported\")\n"
   ]
  },
  {
   "cell_type": "markdown",
   "id": "5a708f63-6cf0-4c52-a124-7516fc45d167",
   "metadata": {},
   "source": [
    "# Model"
   ]
  },
  {
   "cell_type": "code",
   "execution_count": 40,
   "id": "c70d2d8b-f5fc-4f78-a3b4-e58600b16dba",
   "metadata": {},
   "outputs": [],
   "source": [
    "tools = [CalendarTool, SlackTool]"
   ]
  },
  {
   "cell_type": "code",
   "execution_count": 41,
   "id": "a8e52cdb-4e6a-4889-8249-4dcaca43b6e8",
   "metadata": {},
   "outputs": [
    {
     "name": "stdin",
     "output_type": "stream",
     "text": [
      "Enter API key for OpenAI:  ········\n"
     ]
    }
   ],
   "source": [
    "if not os.environ.get(\"OPENAI_API_KEY\"):\n",
    "  os.environ[\"OPENAI_API_KEY\"] = getpass.getpass(\"Enter API key for OpenAI: \")\n",
    "\n",
    "from langchain.chat_models import init_chat_model\n",
    "\n",
    "model = init_chat_model(\"gpt-4\", model_provider=\"openai\")"
   ]
  },
  {
   "cell_type": "code",
   "execution_count": 82,
   "id": "84383030-057b-4221-aa18-cb1a21855f71",
   "metadata": {},
   "outputs": [
    {
     "name": "stderr",
     "output_type": "stream",
     "text": [
      "C:\\Users\\Vacuumlabs\\AppData\\Local\\Temp\\ipykernel_15088\\3458627944.py:30: DeprecationWarning: datetime.datetime.utcnow() is deprecated and scheduled for removal in a future version. Use timezone-aware objects to represent datetimes in UTC: datetime.datetime.now(datetime.UTC).\n",
      "  now = datetime.datetime.utcnow().isoformat() + 'Z'  # 'Z' = UTC time\n",
      "C:\\Users\\Vacuumlabs\\AppData\\Local\\Temp\\ipykernel_15088\\3458627944.py:31: DeprecationWarning: datetime.datetime.utcnow() is deprecated and scheduled for removal in a future version. Use timezone-aware objects to represent datetimes in UTC: datetime.datetime.now(datetime.UTC).\n",
      "  end = (datetime.datetime.utcnow() + datetime.timedelta(days=1)).isoformat() + 'Z'\n",
      "C:\\Users\\Vacuumlabs\\AppData\\Local\\Temp\\ipykernel_15088\\3884348102.py:9: DeprecationWarning: datetime.datetime.utcnow() is deprecated and scheduled for removal in a future version. Use timezone-aware objects to represent datetimes in UTC: datetime.datetime.now(datetime.UTC).\n",
      "  now = datetime.datetime.utcnow()\n"
     ]
    },
    {
     "name": "stdout",
     "output_type": "stream",
     "text": [
      "[{'user': 'U019UJU02UD', 'type': 'message', 'ts': '1750150508.067049', 'client_msg_id': '78f23022-d931-42b9-a55a-c4c277e1011b', 'text': 'Hi summarizer, please finish AI academy by EOD', 'team': 'T026LE24D', 'blocks': [{'type': 'rich_text', 'block_id': '6lD+B', 'elements': [{'type': 'rich_text_section', 'elements': [{'type': 'text', 'text': 'Hi summarizer, please finish AI academy by EOD'}]}]}]}, {'subtype': 'channel_join', 'user': 'U091TFPRUBW', 'text': '<@U091TFPRUBW> has joined the channel', 'inviter': 'U019UJU02UD', 'type': 'message', 'ts': '1750150458.159129'}]\n"
     ]
    },
    {
     "name": "stderr",
     "output_type": "stream",
     "text": [
      "C:\\Users\\Vacuumlabs\\AppData\\Local\\Temp\\ipykernel_15088\\3884348102.py:20: DeprecationWarning: datetime.datetime.utcfromtimestamp() is deprecated and scheduled for removal in a future version. Use timezone-aware objects to represent datetimes in UTC: datetime.datetime.fromtimestamp(timestamp, datetime.UTC).\n",
      "  f\"[{datetime.datetime.utcfromtimestamp(float(m['ts']))}] {m.get('user', 'bot')} - {m.get('text', '')}\"\n"
     ]
    },
    {
     "name": "stdout",
     "output_type": "stream",
     "text": [
      "1. 2025-06-17 14:00:00 - Kids\n",
      "2. 2025-06-17 23:59:00 - Finish AI academy (EOD)\n",
      "3. 2025-06-18 09:30:00 - Karol / Jucus - Vesna onboarding\n",
      "4. 2025-06-18 11:00:00 - Karol / Janos sync (AUXM-3)\n"
     ]
    }
   ],
   "source": [
    "from langchain.agents import Tool, initialize_agent\n",
    "from langchain.chat_models import ChatOpenAI\n",
    "\n",
    "llm = ChatOpenAI(model=\"gpt-4\", temperature=0)\n",
    "\n",
    "tools = [\n",
    "    Tool(\n",
    "        name=\"Calendar Tool\",\n",
    "        func=CalendarTool().run,\n",
    "        description=\"Use this to get today's calendar events.\"\n",
    "    ),\n",
    "    Tool(\n",
    "        name=\"Slack Tool\",\n",
    "        func=SlackTool().run,\n",
    "        description=\"Use this to get recent Slack messages.\"\n",
    "    ),\n",
    "]\n",
    "\n",
    "agent = initialize_agent(\n",
    "    tools=tools,\n",
    "    llm=llm,\n",
    "    agent=\"zero-shot-react-description\",\n",
    "    verbose=False\n",
    ")\n",
    "\n",
    "response = agent.run(\"What are my todos based on google calendar and my slack messages and when I should do them (also the name of the day)? Order them pls and format datetime as YYYY-MM-DD HH:MM.\")\n",
    "print(response)\n"
   ]
  }
 ],
 "metadata": {
  "kernelspec": {
   "display_name": "Python 3 (ipykernel)",
   "language": "python",
   "name": "python3"
  },
  "language_info": {
   "codemirror_mode": {
    "name": "ipython",
    "version": 3
   },
   "file_extension": ".py",
   "mimetype": "text/x-python",
   "name": "python",
   "nbconvert_exporter": "python",
   "pygments_lexer": "ipython3",
   "version": "3.13.2"
  }
 },
 "nbformat": 4,
 "nbformat_minor": 5
}
