{
 "cells": [
  {
   "cell_type": "code",
   "execution_count": 19,
   "id": "478e9a34-becd-4e59-b5b6-0b202f80bcfe",
   "metadata": {},
   "outputs": [],
   "source": [
    "from __future__ import print_function\n",
    "import datetime\n",
    "import os.path\n",
    "from google.auth.transport.requests import Request\n",
    "from google.oauth2.credentials import Credentials\n",
    "from google_auth_oauthlib.flow import InstalledAppFlow\n",
    "from googleapiclient.discovery import build\n",
    "\n",
    "# If modifying these scopes, delete the token.json file\n",
    "SCOPES = ['https://www.googleapis.com/auth/calendar.readonly']\n",
    "\n",
    "def get_calendar_events():\n",
    "    creds = None\n",
    "    # token.json stores the user's access/refresh tokens after first login\n",
    "    if os.path.exists('token.json'):\n",
    "        creds = Credentials.from_authorized_user_file('token.json', SCOPES)\n",
    "    # If no (valid) creds, let user log in\n",
    "    if not creds or not creds.valid:\n",
    "        if creds and creds.expired and creds.refresh_token:\n",
    "            creds.refresh(Request())\n",
    "        else:\n",
    "            flow = InstalledAppFlow.from_client_secrets_file('credentials.json', SCOPES)\n",
    "            creds = flow.run_local_server(port=0)\n",
    "        with open('token.json', 'w') as token:\n",
    "            token.write(creds.to_json())\n",
    "\n",
    "    service = build('calendar', 'v3', credentials=creds)\n",
    "\n",
    "    # Call API to get upcoming events\n",
    "    now = datetime.datetime.utcnow().isoformat() + 'Z'  # 'Z' = UTC time\n",
    "    end = (datetime.datetime.utcnow() + datetime.timedelta(days=1)).isoformat() + 'Z'\n",
    "\n",
    "    events_result = service.events().list(\n",
    "        calendarId='primary', timeMin=now, timeMax=end,\n",
    "        maxResults=10, singleEvents=True,\n",
    "        orderBy='startTime').execute()\n",
    "    events = events_result.get('items', [])\n",
    "\n",
    "    if not events:\n",
    "        return \"No upcoming events found.\"\n",
    "    \n",
    "    output = []\n",
    "    for event in events:\n",
    "        title = event.get('summary', 'No Title')\n",
    "        if title == 'Home':\n",
    "            continue\n",
    "        start = event['start'].get('dateTime', event['start'].get('date'))\n",
    "        end = event['end'].get('dateTime', event['end'].get('date'))\n",
    "        output.append(f\"{start} - {end} — {title}\")\n",
    "\n",
    "    return \" \".join(output)\n"
   ]
  },
  {
   "cell_type": "code",
   "execution_count": 50,
   "id": "8461cae7-d710-4c37-b4d1-2b66c552244d",
   "metadata": {},
   "outputs": [],
   "source": [
    "from langchain.tools import BaseTool\n",
    "\n",
    "class CalendarTool(BaseTool):\n",
    "    name: str = \"calendar_tool\"\n",
    "    description: str = \"Get today's calendar events from Google Calendar.\"\n",
    "\n",
    "    def _run(self, query: str):\n",
    "        return get_calendar_events()\n",
    "\n",
    "    def _arun(self, query: str):\n",
    "        raise NotImplementedError(\"Async not supported\")\n"
   ]
  },
  {
   "cell_type": "markdown",
   "id": "36c69ee3-21d0-4440-a216-0a24072486ff",
   "metadata": {},
   "source": [
    "# Slack"
   ]
  },
  {
   "cell_type": "code",
   "execution_count": 54,
   "id": "8d9f6f0d-0499-4716-bbdc-2e5b2e081236",
   "metadata": {},
   "outputs": [],
   "source": [
    "from slack_sdk import WebClient\n",
    "from slack_sdk.errors import SlackApiError\n",
    "import os\n",
    "import datetime\n",
    "from datetime import timedelta\n",
    "\n",
    "# Load your bot token\n",
    "SLACK_BOT_TOKEN = os.getenv(\"SLACK_BOT_TOKEN\")\n",
    "client = WebClient(token=SLACK_BOT_TOKEN)\n",
    "\n",
    "def get_recent_messages(channel_id: str, minutes_back: int = 60):\n",
    "    try:\n",
    "        # Timestamp for messages from X minutes ago until now\n",
    "        now = datetime.datetime.utcnow()\n",
    "        oldest = (now - timedelta(minutes=minutes_back)).timestamp()\n",
    "\n",
    "        response = client.conversations_history(\n",
    "            channel=channel_id,\n",
    "            oldest=str(oldest)\n",
    "        )\n",
    "\n",
    "        messages = response[\"messages\"]\n",
    "        return [\n",
    "            f\"[{m['ts']}] {m.get('user', 'bot')} - {m.get('text', '')}\"\n",
    "            for m in messages\n",
    "        ]\n",
    "    except SlackApiError as e:\n",
    "        return f\"Error: {e.response['error']}\"\n"
   ]
  },
  {
   "cell_type": "code",
   "execution_count": 51,
   "id": "e8704220-bffb-40fa-976e-21d807fa7764",
   "metadata": {},
   "outputs": [],
   "source": [
    "from langchain.tools import BaseTool\n",
    "\n",
    "class SlackTool(BaseTool):\n",
    "    name: str = \"slack_tool\"\n",
    "    description: str = \"Fetch recent Slack messages\"\n",
    "\n",
    "    def _run(self, query: str):\n",
    "        return \"\\n\".join(get_recent_messages(channel_id=\"C0912N8JV8A\", minutes_back=60))\n",
    "\n",
    "    def _arun(self, query: str):\n",
    "        raise NotImplementedError(\"Async not supported\")\n"
   ]
  },
  {
   "cell_type": "markdown",
   "id": "5a708f63-6cf0-4c52-a124-7516fc45d167",
   "metadata": {},
   "source": [
    "# Model"
   ]
  },
  {
   "cell_type": "code",
   "execution_count": 40,
   "id": "c70d2d8b-f5fc-4f78-a3b4-e58600b16dba",
   "metadata": {},
   "outputs": [],
   "source": [
    "tools = [CalendarTool, SlackTool]"
   ]
  },
  {
   "cell_type": "code",
   "execution_count": 41,
   "id": "a8e52cdb-4e6a-4889-8249-4dcaca43b6e8",
   "metadata": {},
   "outputs": [
    {
     "name": "stdin",
     "output_type": "stream",
     "text": [
      "Enter API key for OpenAI:  ········\n"
     ]
    }
   ],
   "source": [
    "import getpass\n",
    "import os\n",
    "\n",
    "if not os.environ.get(\"OPENAI_API_KEY\"):\n",
    "  os.environ[\"OPENAI_API_KEY\"] = getpass.getpass(\"Enter API key for OpenAI: \")\n",
    "\n",
    "from langchain.chat_models import init_chat_model\n",
    "\n",
    "model = init_chat_model(\"gpt-4\", model_provider=\"openai\")"
   ]
  },
  {
   "cell_type": "code",
   "execution_count": 55,
   "id": "84383030-057b-4221-aa18-cb1a21855f71",
   "metadata": {},
   "outputs": [
    {
     "name": "stdout",
     "output_type": "stream",
     "text": [
      "\n",
      "\n",
      "\u001b[1m> Entering new AgentExecutor chain...\u001b[0m\n",
      "\u001b[32;1m\u001b[1;3mI need to use both the Calendar Tool and the Slack Tool to answer this question.\n",
      "Action: Calendar Tool\n",
      "Action Input: {}\u001b[0m"
     ]
    },
    {
     "name": "stderr",
     "output_type": "stream",
     "text": [
      "C:\\Users\\Vacuumlabs\\AppData\\Local\\Temp\\ipykernel_15088\\3458627944.py:30: DeprecationWarning: datetime.datetime.utcnow() is deprecated and scheduled for removal in a future version. Use timezone-aware objects to represent datetimes in UTC: datetime.datetime.now(datetime.UTC).\n",
      "  now = datetime.datetime.utcnow().isoformat() + 'Z'  # 'Z' = UTC time\n",
      "C:\\Users\\Vacuumlabs\\AppData\\Local\\Temp\\ipykernel_15088\\3458627944.py:31: DeprecationWarning: datetime.datetime.utcnow() is deprecated and scheduled for removal in a future version. Use timezone-aware objects to represent datetimes in UTC: datetime.datetime.now(datetime.UTC).\n",
      "  end = (datetime.datetime.utcnow() + datetime.timedelta(days=1)).isoformat() + 'Z'\n"
     ]
    },
    {
     "name": "stdout",
     "output_type": "stream",
     "text": [
      "\n",
      "Observation: \u001b[36;1m\u001b[1;3m2025-06-17T14:00:00+02:00 - 2025-06-17T15:05:00+02:00 — Kids 2025-06-18T09:30:00+02:00 - 2025-06-18T10:00:00+02:00 — Karol / Jucus - Vesna onboarding 2025-06-18T11:00:00+02:00 - 2025-06-18T11:30:00+02:00 — Karol / Janos sync (AUXM-3)\u001b[0m\n",
      "\u001b[32;1m\u001b[1;3mI have the calendar events, now I need to get the latest Slack updates.\n",
      "Action: Slack Tool\n",
      "Action Input: {}\u001b[0m"
     ]
    },
    {
     "name": "stderr",
     "output_type": "stream",
     "text": [
      "C:\\Users\\Vacuumlabs\\AppData\\Local\\Temp\\ipykernel_15088\\4276294009.py:15: DeprecationWarning: datetime.datetime.utcnow() is deprecated and scheduled for removal in a future version. Use timezone-aware objects to represent datetimes in UTC: datetime.datetime.now(datetime.UTC).\n",
      "  now = datetime.datetime.utcnow()\n"
     ]
    },
    {
     "name": "stdout",
     "output_type": "stream",
     "text": [
      "\n",
      "Observation: \u001b[33;1m\u001b[1;3m[1750150508.067049] U019UJU02UD - Hi summarizer, please finish AI academy by EOD\n",
      "[1750150458.159129] U091TFPRUBW - <@U091TFPRUBW> has joined the channel\u001b[0m\n",
      "\u001b[32;1m\u001b[1;3mI now have both the calendar events and the latest Slack updates.\n",
      "Final Answer: Your calendar events are: \n",
      "1. Kids from 14:00 to 15:05 on 2025-06-17\n",
      "2. Karol / Jucus - Vesna onboarding from 09:30 to 10:00 on 2025-06-18\n",
      "3. Karol / Janos sync (AUXM-3) from 11:00 to 11:30 on 2025-06-18\n",
      "\n",
      "Your latest Slack updates are: \n",
      "1. U019UJU02UD - Hi summarizer, please finish AI academy by EOD\n",
      "2. U091TFPRUBW - <@U091TFPRUBW> has joined the channel\u001b[0m\n",
      "\n",
      "\u001b[1m> Finished chain.\u001b[0m\n",
      "Your calendar events are: \n",
      "1. Kids from 14:00 to 15:05 on 2025-06-17\n",
      "2. Karol / Jucus - Vesna onboarding from 09:30 to 10:00 on 2025-06-18\n",
      "3. Karol / Janos sync (AUXM-3) from 11:00 to 11:30 on 2025-06-18\n",
      "\n",
      "Your latest Slack updates are: \n",
      "1. U019UJU02UD - Hi summarizer, please finish AI academy by EOD\n",
      "2. U091TFPRUBW - <@U091TFPRUBW> has joined the channel\n"
     ]
    }
   ],
   "source": [
    "from langchain.agents import Tool, initialize_agent\n",
    "from langchain.chat_models import ChatOpenAI\n",
    "\n",
    "llm = ChatOpenAI(model=\"gpt-4\", temperature=0)\n",
    "\n",
    "tools = [\n",
    "    Tool(\n",
    "        name=\"Calendar Tool\",\n",
    "        func=CalendarTool().run,\n",
    "        description=\"Use this to get today's calendar events.\"\n",
    "    ),\n",
    "    Tool(\n",
    "        name=\"Slack Tool\",\n",
    "        func=SlackTool().run,\n",
    "        description=\"Use this to get recent Slack messages.\"\n",
    "    ),\n",
    "]\n",
    "\n",
    "agent = initialize_agent(\n",
    "    tools=tools,\n",
    "    llm=llm,\n",
    "    agent=\"zero-shot-react-description\",\n",
    "    verbose=True\n",
    ")\n",
    "\n",
    "response = agent.run(\"What do I have on my calendar and what are the latest Slack updates?\")\n",
    "print(response)\n"
   ]
  }
 ],
 "metadata": {
  "kernelspec": {
   "display_name": "Python 3 (ipykernel)",
   "language": "python",
   "name": "python3"
  },
  "language_info": {
   "codemirror_mode": {
    "name": "ipython",
    "version": 3
   },
   "file_extension": ".py",
   "mimetype": "text/x-python",
   "name": "python",
   "nbconvert_exporter": "python",
   "pygments_lexer": "ipython3",
   "version": "3.13.2"
  }
 },
 "nbformat": 4,
 "nbformat_minor": 5
}
